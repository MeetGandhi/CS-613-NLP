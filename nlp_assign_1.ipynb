{
 "cells": [
  {
   "cell_type": "code",
   "execution_count": 1,
   "metadata": {},
   "outputs": [
    {
     "name": "stdout",
     "output_type": "stream",
     "text": [
      "[nltk_data] Downloading package punkt to\n",
      "[nltk_data]     C:\\Users\\Meet\\AppData\\Roaming\\nltk_data...\n",
      "[nltk_data]   Package punkt is already up-to-date!\n"
     ]
    }
   ],
   "source": [
    "import nltk\n",
    "nltk.download('punkt')\n",
    "from nltk import *\n",
    "import numpy as np\n",
    "from urllib import request\n",
    "from collections import Counter\n",
    "import matplotlib.pyplot as plt\n",
    "from sklearn import svm\n",
    "from scipy.optimize import curve_fit\n",
    "from PyDictionary import PyDictionary\n",
    "from vocabulary.vocabulary import Vocabulary as vb\n",
    "# for the dependencies, all the libraries are present in Anaconda except PyDictionary and vocabulary\n",
    "# for installing the same run pip install PyDictionary and pip install vocabulary respectively\n",
    "\n",
    "d=PyDictionary()"
   ]
  },
  {
   "cell_type": "code",
   "execution_count": 2,
   "metadata": {},
   "outputs": [],
   "source": [
    "url = \"http://www.gutenberg.org/files/84/84-0.txt\"  # Corpus used: Frankenstein, by Mary Wollstonecraft (Godwin) Shelley\n",
    "res = request.urlopen(url)\n",
    "text = res.read().decode('utf8')\n",
    "text= text.lower()\n",
    "# loading the corpus from the Ebook itself hence NOTE that there might be some extra text in the corpus too"
   ]
  },
  {
   "cell_type": "code",
   "execution_count": 3,
   "metadata": {},
   "outputs": [],
   "source": [
    "tokensize = word_tokenize(text) # tokenizer can be used only when 'punkt' has been downloaded"
   ]
  },
  {
   "cell_type": "code",
   "execution_count": 4,
   "metadata": {},
   "outputs": [
    {
     "name": "stdout",
     "output_type": "stream",
     "text": [
      "TTR: 0.08695015488594762\n"
     ]
    }
   ],
   "source": [
    "print(\"TTR: \"+str(len(list(set(tokensize)))/len(tokensize)))"
   ]
  },
  {
   "cell_type": "code",
   "execution_count": 5,
   "metadata": {},
   "outputs": [],
   "source": [
    "counter=Counter(tokensize) # used to get the frequencies of each of the unique tokens\n",
    "counts=list(counter.values())\n",
    "tokens=counter.keys()"
   ]
  },
  {
   "cell_type": "code",
   "execution_count": 6,
   "metadata": {},
   "outputs": [],
   "source": [
    "toke=list(tokens)\n",
    "\n",
    "#meaning=np.zeros(len(toke))\n",
    "wordlength=np.zeros(len(toke))"
   ]
  },
  {
   "cell_type": "code",
   "execution_count": 9,
   "metadata": {},
   "outputs": [
    {
     "name": "stderr",
     "output_type": "stream",
     "text": [
      "F:\\Anaconda3\\lib\\site-packages\\bs4\\__init__.py:181: UserWarning: No parser was explicitly specified, so I'm using the best available HTML parser for this system (\"lxml\"). This usually isn't a problem, but if you run this code on another system, or in a different virtual environment, it may use a different parser and behave differently.\n",
      "\n",
      "The code that caused this warning is on line 193 of the file F:\\Anaconda3\\lib\\runpy.py. To get rid of this warning, change code that looks like this:\n",
      "\n",
      " BeautifulSoup(YOUR_MARKUP})\n",
      "\n",
      "to this:\n",
      "\n",
      " BeautifulSoup(YOUR_MARKUP, \"lxml\")\n",
      "\n",
      "  markup_type=markup_type))\n"
     ]
    }
   ],
   "source": [
    "# For getting the number of meanings I am using the PyDictionary and not the file shared by Professor as according to me \n",
    "# PyDictionary is vast\n",
    "# NOTE THAT IF THIS CELL GIVES ERROR THEN THE REASON MIGHT BE THAT THE MEANING OF THE WORD MIGHT NOT BE AVAILABLE IN \n",
    "# PyDictionary, hence run the cell again for new random words. For example \",\" has no meaning as a word.\n",
    "num_meaning=10\n",
    "meaning=np.zeros(num_meaning)\n",
    "for i in range(meaning.shape[0]):\n",
    "    n=np.random.randint(0,len(toke))\n",
    "    meani=d.meaning(toke[n]) \n",
    "    parts=list(meani)  # whether the word is a Noun or Verb or adjective and so on\n",
    "    s=0\n",
    "    for j in range(len(parts)):  # for each part of speech how many meanings does the word have\n",
    "        s=s+len(meani[parts[j]]) \n",
    "    meaning[i]=s\n",
    "    #wordlength[i]=len(toke)\n",
    "    #if vb.meaning(toke[np.random.randint(0,len(toke))])!=False:\n",
    "    #    meaning[i]=len(vb.meaning(toke[np.random.randint(0,len(toke))], format='list')) \n",
    "# used to calculate the number of meanings of a word based on vocabulary python library"
   ]
  },
  {
   "cell_type": "code",
   "execution_count": 10,
   "metadata": {},
   "outputs": [],
   "source": [
    "for i in range(wordlength.shape[0]):\n",
    "    wordlength[i]=len(toke[i])"
   ]
  },
  {
   "cell_type": "code",
   "execution_count": 11,
   "metadata": {},
   "outputs": [],
   "source": [
    "ranks=np.arange(1,len(counts)+1)\n",
    "indices= np.argsort(-1*np.array(counts))\n",
    "freq=np.array(counts)[indices]"
   ]
  },
  {
   "cell_type": "code",
   "execution_count": 28,
   "metadata": {},
   "outputs": [
    {
     "name": "stderr",
     "output_type": "stream",
     "text": [
      "F:\\Anaconda3\\lib\\site-packages\\bs4\\__init__.py:181: UserWarning: No parser was explicitly specified, so I'm using the best available HTML parser for this system (\"lxml\"). This usually isn't a problem, but if you run this code on another system, or in a different virtual environment, it may use a different parser and behave differently.\n",
      "\n",
      "The code that caused this warning is on line 193 of the file F:\\Anaconda3\\lib\\runpy.py. To get rid of this warning, change code that looks like this:\n",
      "\n",
      " BeautifulSoup(YOUR_MARKUP})\n",
      "\n",
      "to this:\n",
      "\n",
      " BeautifulSoup(YOUR_MARKUP, \"lxml\")\n",
      "\n",
      "  markup_type=markup_type))\n"
     ]
    }
   ],
   "source": [
    "# For getting the number of meanings I am using the PyDictionary and not the file shared by Professor as according to me \n",
    "# PyDictionary is vast\n",
    "# NOTE THAT IF THIS CELL GIVES ERROR THEN THE REASON MIGHT BE THAT THE MEANING OF THE WORD MIGHT NOT BE AVAILABLE IN \n",
    "# PyDictionary, hence run the cell again for new random words. For example \",\" has no meaning as a word.\n",
    "num_meaning=10\n",
    "meaning=np.zeros(num_meaning)\n",
    "freq_mean=np.zeros(num_meaning)\n",
    "for i in range(meaning.shape[0]):\n",
    "    n=np.random.randint(0,indices.shape[0])\n",
    "    meani=d.meaning(list(tokens)[n])\n",
    "    parts=list(meani)\n",
    "    s=0\n",
    "    for j in range(len(parts)):\n",
    "        s=s+len(meani[parts[j]])\n",
    "    meaning[i]=s\n",
    "    freq_mean[i]=freq[indices[n]] # frequencies related to the random tokens chosen"
   ]
  },
  {
   "cell_type": "code",
   "execution_count": 17,
   "metadata": {},
   "outputs": [
    {
     "data": {
      "image/png": "[encoded data removed]",
      "text/plain": [
       "<Figure size 432x288 with 1 Axes>"
      ]
     },
     "metadata": {},
     "output_type": "display_data"
    }
   ],
   "source": [
    "plt.plot(freq, np.array(wordlength)[indices])\n",
    "plt.xlabel(\"Frequency\")\n",
    "plt.ylabel(\"Wordlength\")\n",
    "plt.show()\n",
    "#plt.savefig(\"l_f.png\")\n",
    "#plt.close()"
   ]
  },
  {
   "cell_type": "code",
   "execution_count": 18,
   "metadata": {},
   "outputs": [
    {
     "data": {
      "image/png": "[encoded data removed]",
      "text/plain": [
       "<Figure size 432x288 with 1 Axes>"
      ]
     },
     "metadata": {},
     "output_type": "display_data"
    }
   ],
   "source": [
    "plt.loglog(freq, ranks)\n",
    "plt.xlabel(\"Frequency in log scale\")\n",
    "plt.ylabel(\"Rank in log scale\")\n",
    "plt.show()\n",
    "#plt.savefig(\"Zipf_Law.png\")\n",
    "#plt.close()"
   ]
  },
  {
   "cell_type": "code",
   "execution_count": 19,
   "metadata": {},
   "outputs": [],
   "source": [
    "num=1000\n",
    "\n",
    "splt=np.array_split(tokensize, num)\n",
    "\n",
    "voc=np.zeros(num)\n",
    "tok=np.zeros(num)"
   ]
  },
  {
   "cell_type": "code",
   "execution_count": 20,
   "metadata": {},
   "outputs": [],
   "source": [
    "for i in range(num):\n",
    "    tok[i]=len(list(splt[i]))\n",
    "    voc[i]=len(list(set(splt[i])))"
   ]
  },
  {
   "cell_type": "code",
   "execution_count": 21,
   "metadata": {},
   "outputs": [],
   "source": [
    "tok=np.array([sum(tok[:i+1]) for i in range(num)])\n",
    "voc=np.array([sum(voc[:i+1]) for i in range(num)])\n",
    "\n",
    "#toki=tok.reshape(-1,1)\n",
    "#cl=svm.SVR(kernel='poly')\n",
    "#cl.fit(toki,voc)\n",
    "\n",
    "def heap(tokens, k, beta):\n",
    "    return k*((tokens)**beta)\n"
   ]
  },
  {
   "cell_type": "code",
   "execution_count": 22,
   "metadata": {},
   "outputs": [
    {
     "name": "stdout",
     "output_type": "stream",
     "text": [
      "K: 0.7672551937972026\n",
      "beta: 0.9917567634823897\n"
     ]
    }
   ],
   "source": [
    "popt, pcov= curve_fit(heap, tok, voc)\n",
    "\n",
    "K=popt[0]\n",
    "beta=popt[1]\n",
    "\n",
    "print(\"K: \"+str(K))\n",
    "print(\"beta: \"+str(beta))"
   ]
  },
  {
   "cell_type": "code",
   "execution_count": 23,
   "metadata": {},
   "outputs": [
    {
     "data": {
      "image/png": "[encoded data removed]",
      "text/plain": [
       "<Figure size 432x288 with 1 Axes>"
      ]
     },
     "metadata": {},
     "output_type": "display_data"
    }
   ],
   "source": [
    "plt.plot(voc, tok)\n",
    "plt.xlabel(\"Number of Tokens\")\n",
    "plt.ylabel(\"Vocabulary Size\")\n",
    "plt.show()\n",
    "#plt.savefig(\"Heaps_Law.png\")\n",
    "#plt.close()"
   ]
  },
  {
   "cell_type": "code",
   "execution_count": 29,
   "metadata": {},
   "outputs": [
    {
     "data": {
      "image/png": "[encoded data removed]",
      "text/plain": [
       "<Figure size 432x288 with 1 Axes>"
      ]
     },
     "metadata": {},
     "output_type": "display_data"
    }
   ],
   "source": [
    "plt.plot(freq_mean, meaning)\n",
    "plt.xlabel(\"Frequency\")\n",
    "plt.ylabel(\"Number of Meanings\")\n",
    "plt.show()\n",
    "#plt.savefig(\"m_f.png\")\n",
    "#plt.close()\n",
    "\n",
    "\n",
    "# AS the number of points were quite less the plot looks somewhat deceptive however the concept is visualized by the fact \n",
    "# that more the frequency less would be the meaning for that word and vice versa  "
   ]
  },
  {
   "cell_type": "code",
   "execution_count": null,
   "metadata": {},
   "outputs": [],
   "source": []
  }
 ],
 "metadata": {
  "kernelspec": {
   "display_name": "Python 3",
   "language": "python",
   "name": "python3"
  },
  "language_info": {
   "codemirror_mode": {
    "name": "ipython",
    "version": 3
   },
   "file_extension": ".py",
   "mimetype": "text/x-python",
   "name": "python",
   "nbconvert_exporter": "python",
   "pygments_lexer": "ipython3",
   "version": "3.6.5"
  }
 },
 "nbformat": 4,
 "nbformat_minor": 2
}
